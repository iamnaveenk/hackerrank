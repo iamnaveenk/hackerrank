{
  "nbformat": 4,
  "nbformat_minor": 0,
  "metadata": {
    "colab": {
      "name": "hacker rank qwestions.ipynb",
      "provenance": [],
      "collapsed_sections": [],
      "authorship_tag": "ABX9TyN5tXeNYJG+dXpBu/g4vk6w",
      "include_colab_link": true
    },
    "kernelspec": {
      "name": "python3",
      "display_name": "Python 3"
    },
    "language_info": {
      "name": "python"
    }
  },
  "cells": [
    {
      "cell_type": "markdown",
      "metadata": {
        "id": "view-in-github",
        "colab_type": "text"
      },
      "source": [
        "<a href=\"https://colab.research.google.com/github/naveenkumar1805/hackerrank/blob/main/hacker_rank_qwestions.ipynb\" target=\"_parent\"><img src=\"https://colab.research.google.com/assets/colab-badge.svg\" alt=\"Open In Colab\"/></a>"
      ]
    },
    {
      "cell_type": "code",
      "source": [
        "array=[]"
      ],
      "metadata": {
        "id": "SW3-lIQBoC0f"
      },
      "execution_count": null,
      "outputs": []
    },
    {
      "cell_type": "code",
      "source": [
        "def rotateArray(arr, n, d):\n",
        "    temp = []\n",
        "    i = 0\n",
        "    while (i < d):\n",
        "        temp.append(arr[i])\n",
        "        i = i + 1\n",
        "    i = 0\n",
        "    while (d < n):\n",
        "        arr[i] = arr[d]\n",
        "        i = i + 1\n",
        "        d = d + 1\n",
        "    arr[:] = arr[: i] + temp\n",
        "    return arr\n",
        " \n",
        " \n",
        "# Driver function to test above function\n",
        "arr = [1, 2, 3, 4, 5, 6, 7]\n",
        "print(\"Array after left rotation is: \", end=' ')\n",
        "print(rotateArray(arr, len(arr), 3))"
      ],
      "metadata": {
        "colab": {
          "base_uri": "https://localhost:8080/"
        },
        "id": "0moPtJQtoc_G",
        "outputId": "443d1404-6b79-4d4f-ac92-4390c2959ac2"
      },
      "execution_count": null,
      "outputs": [
        {
          "output_type": "stream",
          "name": "stdout",
          "text": [
            "Array after left rotation is:  [4, 5, 6, 7, 1, 2, 3]\n"
          ]
        }
      ]
    },
    {
      "cell_type": "code",
      "source": [
        "temp=[1,2]\n",
        "arr[:] = arr[: 1] + temp\n",
        "print(arr)"
      ],
      "metadata": {
        "colab": {
          "base_uri": "https://localhost:8080/"
        },
        "id": "ZGYQQa2ar2qG",
        "outputId": "51076054-8ece-4a31-e0f6-2800f7781168"
      },
      "execution_count": null,
      "outputs": [
        {
          "output_type": "stream",
          "name": "stdout",
          "text": [
            "[4, 1, 2]\n"
          ]
        }
      ]
    },
    {
      "cell_type": "code",
      "source": [
        "array[:]=arr"
      ],
      "metadata": {
        "id": "0vne8GpQsgTz"
      },
      "execution_count": null,
      "outputs": []
    },
    {
      "cell_type": "code",
      "source": [
        "def swap_case(s):\n",
        "\n",
        "\n",
        "  case_change=[]\n",
        "  for i in range(len(s)):\n",
        "      if (s[i].isupper())==True:\n",
        "          case_change.append(s[i].lower())\n",
        "      elif (s[i].islower()==True):\n",
        "          case_change.append(s[i].upper())\n",
        "      else:\n",
        "          case_change.append(s[i])    \n",
        "      stri=''\n",
        "  return stri.join(case_change)\n",
        "#s = input()\n",
        "s='Naveen Kumar'\n",
        "result = swap_case(s)\n",
        "print(result)\n"
      ],
      "metadata": {
        "colab": {
          "base_uri": "https://localhost:8080/"
        },
        "id": "cycdQvu9kbFR",
        "outputId": "b8d268d1-557d-4388-b673-e68752bc0458"
      },
      "execution_count": 18,
      "outputs": [
        {
          "output_type": "stream",
          "name": "stdout",
          "text": [
            "nAVEEN kUMAR\n"
          ]
        }
      ]
    },
    {
      "cell_type": "code",
      "source": [
        "def swap_case(s):\n",
        "  number=[]\n",
        "  for i in range(len(s)):\n",
        "    if s[i].isupper==True:\n",
        "      number.append(s[i].islower)\n",
        "    elif s[i].islower==True:\n",
        "      number.append(s[i].isupper)\n",
        "    else:\n",
        "      number.append(s[i])\n",
        "    string=''\n",
        "  return string.join(number)\n",
        "s='naveeN KuMAr'\n",
        "result=swap_case(s)\n",
        "print(result)"
      ],
      "metadata": {
        "colab": {
          "base_uri": "https://localhost:8080/"
        },
        "id": "9e52YhKPniM4",
        "outputId": "ab629718-2bf0-4ac5-b1c7-da3060987cea"
      },
      "execution_count": 21,
      "outputs": [
        {
          "output_type": "stream",
          "name": "stdout",
          "text": [
            "naveeN KuMAr\n"
          ]
        }
      ]
    }
  ]
}